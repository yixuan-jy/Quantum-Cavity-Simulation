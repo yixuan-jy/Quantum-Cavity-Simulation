{
 "cells": [
  {
   "cell_type": "code",
   "execution_count": 2,
   "metadata": {},
   "outputs": [],
   "source": [
    "import numpy as np\n",
    "import matplotlib.pyplot as plt\n",
    "import pandas as pd\n",
    "%matplotlib inline\n",
    "from qutip import *"
   ]
  },
  {
   "cell_type": "markdown",
   "metadata": {},
   "source": [
    "#### 1. Operators and System\n",
    "In this script we consinder the joint space of:\n",
    "- cavity supporting mode $a$ in which a single two-level atom is placed\n",
    "- N dimensional space of the photon field \n",
    "\n",
    "Operators in the joint space are constructed using tensor products of corresponding operators in the separate spaces in the following function:"
   ]
  },
  {
   "cell_type": "code",
   "execution_count": 3,
   "metadata": {},
   "outputs": [],
   "source": [
    "def operators(kappa, gamma, g, N, E):\n",
    "    # input: various parameters \n",
    "    # output: a dictionary of joint operators for the system\n",
    "\n",
    "    # Anhilation Operators\n",
    "    a  = tensor(destroy(N), qeye(2))    # a - cavity lowering operator\n",
    "    sm = tensor(qeye(N), sigmam())    # sigma - atomic lowering operator\n",
    "\n",
    "    # Collapse Operators\n",
    "    C1 = np.sqrt(2*kappa)*a\n",
    "    C2 = np.sqrt(gamma)*sm\n",
    "    C1dC1 = C1.dag() * C1\n",
    "    C2dC2 = C2.dag() * C2\n",
    "    return locals()"
   ]
  },
  {
   "cell_type": "markdown",
   "metadata": {},
   "source": [
    "#### 2. Superoperators and density matrix equations\n",
    "The generic form of a master equation is:\n",
    "$$\n",
    "\\frac{d\\rho}{dt} = \\hat{\\mathcal{L}}\\rho\n",
    "$$\n",
    "where $\\rho$ is the density matrix and Liouvillian $\\mathcal{L}$ is a superoperator which may involve both premultiplication and postmultiplication by other operators. For our joint system, the Liouvillian is given by:\n",
    "$$\n",
    "\\hat{\\mathcal{L}} \\rho = \\gamma \\hat{\\sigma}_- \\rho \\hat{\\sigma}_+\n",
    "- \\frac{\\gamma}{2} \\hat{\\sigma}_- \\hat{\\sigma}_+ \\rho \n",
    "- \\frac{\\gamma}{2} \\rho \\hat{\\sigma}_+ \\hat{\\sigma}_-\n",
    "$$\n",
    "\n",
    "When considering the operation of $\\hat{\\mathcal{L}}$ on matrix $\\rho$, we need to perform calculations 'flatly'. This means that we need to:\n",
    "1. 'flatten' the matrix $\\rho$ into a column vector $\\tilde{\\rho}$ \n",
    "2. convert the operators in $\\hat{\\mathcal{L}}$ into superoperators of the corresponding dimensions to $\\tilde{\\rho}$. \n",
    "\n",
    "This is done by using the spre() and spost() functions in QuTiP which correspondingly gives the superoperaotrs corresponding to premultiplication and postmultiplication of the input operator.If we need to consider the Hamiltonian in the evolution as well, we can also add the commutator to the Liouvillian as such:\n",
    "$$\n",
    "\\hat{\\mathcal{L}}_{\\hat{H}\\rho} = -i[\\hat{H},\\rho] = -i(\\hat{H}\\rho-\\rho\\hat{H} )\n",
    "$$\n",
    "These steps are performed in the following function:"
   ]
  },
  {
   "cell_type": "code",
   "execution_count": 4,
   "metadata": {},
   "outputs": [],
   "source": [
    "def Liouv( Del_c, a, sm, C1, C2, C1dC1, C2dC2 ):\n",
    "    # Hamiltonian\n",
    "    H = Del_c * sm.dag() * sm + Del_c * a.dag() * a + 1j*g*(a.dag()*sm - sm.dag()*a) + E*(a.dag()+a)\n",
    "\n",
    "    # Liovillian\n",
    "    LH = -1j * (spre(H) - spost(H))\n",
    "    L1 = spre(C1)*spost(C1.dag()) - 0.5*spre(C1dC1) - 0.5*spost(C1dC1)\n",
    "    L2 = spre(C2)*spost(C2.dag()) - 0.5*spre(C2dC2) - 0.5*spost(C2dC2)\n",
    "    L = LH+L1+L2\n",
    "\n",
    "    return L "
   ]
  },
  {
   "cell_type": "markdown",
   "metadata": {},
   "source": [
    "#### 3. Calculating Operator expectation values\n",
    "The expectation value of some operator $\\hat{A}$ in the system can be obtained from:\n",
    "- demsity matrix $\\rho$: &ensp; $\\langle \\hat{A} \\rangle = Tr(\\hat{A}\\rho)$. \n",
    "- state ket $\\ket{\\phi}$: &emsp;&emsp;&ensp; $\\langle \\hat{A} \\rangle = Tr(\\hat{A}\\ket{\\phi}\\bra{\\phi}) = \\bra{\\phi}\\hat{A}\\ket{\\phi} $\n",
    "\n",
    "This can be performed by the QuTiP function expect(op,state). In this specific example, we can obtain the steady state solution of $\\rho$ in the master equation using the steady() function."
   ]
  }
 ],
 "metadata": {
  "kernelspec": {
   "display_name": "Python 3.10.6 64-bit",
   "language": "python",
   "name": "python3"
  },
  "language_info": {
   "codemirror_mode": {
    "name": "ipython",
    "version": 3
   },
   "file_extension": ".py",
   "mimetype": "text/x-python",
   "name": "python",
   "nbconvert_exporter": "python",
   "pygments_lexer": "ipython3",
   "version": "3.10.6"
  },
  "orig_nbformat": 4,
  "vscode": {
   "interpreter": {
    "hash": "aee8b7b246df8f9039afb4144a1f6fd8d2ca17a180786b69acc140d282b71a49"
   }
  }
 },
 "nbformat": 4,
 "nbformat_minor": 2
}
